{
 "cells": [
  {
   "cell_type": "markdown",
   "id": "77ffd054-4e25-4a4b-9648-4c3f05d3b2a8",
   "metadata": {},
   "source": [
    "# TIPOS DE ARCHIVOS DE IMÁGENES QUE SE PUEDEN USAR EN PLANTCV\n",
    "\n",
    "- .png.\n",
    "PNG es la abreviatura de Portable Network Graphic, un tipo de archivo de imagen ráster. Es un formato especialmente popular entre los diseñadores web porque puede manejar gráficos con fondos transparentes o semitransparentes. El formato de archivo no está patentado, por lo que puedes abrir un PNG con cualquier software de edición de imágenes sin necesidad de una licencia.\n",
    "\n",
    "- .jpeg.\n",
    "JPEG es la sigla de “Joint Photographic Experts Group”, la organización internacional que estandarizó este formato entre finales de los ochenta y principios de los noventa. Se trata del formato de archivo estándar para las imágenes digitales en la actualidad, y desde que los fotógrafos comenzaron a tomar y almacenar fotos en cámaras digitales y otros dispositivos reprográficos. Los archivos JPEG admiten color de hasta 24 bits y se comprimen con pérdida de datos para que las imágenes puedan almacenarse o enviarse de forma más sencilla, de modo que son mejores para el uso diario, aunque ello implique perder parte de la calidad de la imagen original. Pueden tener las siguientes extensiones: .jpg, .jpeg, .jpe, .jif, .jfif,.jfi\n",
    "\n",
    "- .tiff\n",
    "Un archivo TIFF, cuyo nombre es la sigla de “Tag Image File Format” (formato de archivo de imágenes con etiquetas), es un archivo informático que se emplea para almacenar información de imágenes y gráficos rasterizados. El TIFF, que es uno de los formatos favoritos de los fotógrafos, es una forma muy práctica de almacenar imágenes de alta calidad antes de editarlas para evitar formatos de archivo con pérdida de datos. Tienen la extensión .tiff o .tif. Se comprimen sin pérdida de datos, por lo que tienen un tamaño superior al de la mayoría de los archivos, pero no se pierde calidad de imagen.\n",
    "Funcionan con Windows, Linux y macOS.\n",
    "\n",
    "- .gif \n",
    "GIF, que es la sigla de “Graphics Interchange Format” (Formato de intercambio de gráficos), es un formato de archivo rasterizado diseñado para imágenes relativamente simples que aparecen, en su mayoría, en Internet. Cada archivo admite un máximo de 8 bits por píxel y pueden contener 256 colores indexados. Además, el formato permite combinar imágenes o fotogramas para crear animaciones básicas.\n",
    "\n",
    "- .raw\n",
    "A RAW file is the uncompressed and unprocessed image data captured by a digital camera or scanner’s sensors. Shooting in RAW captures a high level of image detail, with large file sizes and lossless quality. The direct image data means you start with a high-quality image that can be edited, converted, and compressed in a non-destructive manner. RAW files are a type of raster file format, but not actually images themselves.\n"
   ]
  },
  {
   "cell_type": "markdown",
   "id": "1172a786-4f36-4fd9-af3b-455fa010153b",
   "metadata": {},
   "source": [
    "# WORKFLOW, PIPELINE\n"
   ]
  },
  {
   "cell_type": "markdown",
   "id": "85a305e2-317b-460d-bbee-e7b62a694c1e",
   "metadata": {},
   "source": [
    "## Workflow\n",
    "Un workflow (flujo de trabajo) es una secuencia estructurada de pasos o tareas que se deben seguir para completar un proceso. Cada paso del workflow define un conjunto de actividades que deben realizarse, y puede incluir condiciones o reglas sobre cómo pasar de una etapa a otra. Los workflows se utilizan para modelar procesos complejos, asegurando que todas las tareas se realicen en el orden adecuado.\n",
    "\n",
    "Ejemplo en programación:\n",
    "\n",
    "- El proceso completo para desarrollar y desplegar una aplicación puede considerarse un workflow. Este workflow incluiría tareas como escribir código, realizar pruebas unitarias, revisar código, compilar la aplicación, desplegarla en un entorno de prueba y luego en producción.\n",
    "- Un workflow también puede automatizar acciones dentro de un software, como el flujo de datos en un sistema de análisis: importar datos, limpiarlos, analizarlos y luego exportar los resultados."
   ]
  },
  {
   "cell_type": "markdown",
   "id": "48104aca-90a6-4d4f-b4dc-45f36bf51b09",
   "metadata": {},
   "source": [
    "## Pipeline\n",
    "Una pipeline es un tipo específico de workflow, generalmente centrado en el procesamiento de datos o en la ejecución continua de tareas. La pipeline toma una entrada, la procesa en una serie de etapas o fases, y genera una salida. Cada etapa de la pipeline realiza una tarea específica y, generalmente, pasa su salida a la siguiente etapa. Este concepto es especialmente común en CI/CD (Integración Continua/Despliegue Continuo) y en procesamiento de datos.\n",
    "\n",
    "Ejemplo en programación:\n",
    "\n",
    "- En una pipeline de CI/CD, los pasos incluyen compilar el código, ejecutar pruebas, empaquetar el software y desplegarlo automáticamente en un entorno de producción.\n",
    "- En el procesamiento de datos, una pipeline puede incluir la extracción de datos de una fuente, su transformación y limpieza, y finalmente el almacenamiento en una base de datos o la visualización de los resultados.\n",
    "\n",
    "### Diferencia clave\n",
    "- Un workflow puede ser más general y describe el proceso completo de múltiples tareas relacionadas con el objetivo final.\n",
    "- Una pipeline es más específica y suele estar compuesta por una serie de pasos de procesamiento de datos o código que deben ejecutarse en secuencia. Las pipelines suelen estar muy enfocadas en la automatización y la ejecución continua.\n"
   ]
  },
  {
   "cell_type": "markdown",
   "id": "306ad20a-536e-4e37-a6b9-dbd34aceee60",
   "metadata": {},
   "source": [
    "# FUNCIONES DE INPUT/OUTPUT EN PLANTCV"
   ]
  },
  {
   "cell_type": "code",
   "execution_count": null,
   "id": "6b46506c-6d1a-49a5-8fc6-49e3a557a6c0",
   "metadata": {},
   "outputs": [],
   "source": [
    "\n",
    "from plantcv import plantcv as pcv\n",
    "from plantcv.parallel import WorkflowInputs"
   ]
  },
  {
   "cell_type": "code",
   "execution_count": null,
   "id": "01a99b83-656e-459c-b4fd-dd958995fe0c",
   "metadata": {},
   "outputs": [],
   "source": [
    "# Opciones de entrada y salida\n",
    "args = WorkflowInputs(\n",
    "    images=[\"tomato.jpg\"],  # Lista con el nombre de la imagen de entrada. En este caso, \"tomato.jpg\".\n",
    "    \n",
    "    names=\"image\",  # Nombre identificador de la imagen dentro del flujo de trabajo.\n",
    "    \n",
    "    result=\"results.csv\",  # Nombre del archivo donde se guardarán los resultados del procesamiento.\n",
    "    \n",
    "    outdir=\"./res\",  # Directorio de salida donde se almacenarán los archivos de resultados.\n",
    "    \n",
    "    writeimg=False,  # Indica si se deben guardar las imágenes procesadas (False = No guardar, True = Guardar).\n",
    "    \n",
    "    debug=\"plot\"  # Modo de depuración. Puede ser \"plot\" para mostrar gráficos o \"print\" para imprimir en consola.\n",
    ")\n"
   ]
  },
  {
   "cell_type": "code",
   "execution_count": null,
   "id": "e923228f-b1a2-4856-9a04-57e61e809d7f",
   "metadata": {},
   "outputs": [],
   "source": [
    "pcv.params.debug = args.debug  \n",
    "\n",
    "# Ajustar la resolución de las imágenes mostradas en gráficos o salidas visuales.\n",
    "pcv.params.dpi = 100  \n",
    "\n",
    "# Configurar el tamaño del texto en anotaciones dentro de las imágenes procesadas.\n",
    "pcv.params.text_size = 20  \n",
    "\n",
    "# Establecer el grosor del texto en píxeles.\n",
    "pcv.params.text_thickness = 20  "
   ]
  },
  {
   "cell_type": "code",
   "execution_count": null,
   "id": "b57bc653-0655-4f64-a2da-09959f5a8805",
   "metadata": {},
   "outputs": [],
   "source": [
    "# Read in your image, which is based on the path you put above\n",
    "\n",
    "# Inputs:\n",
    "#   filename - Image file to be read in \n",
    "#   mode - Return mode of image; either 'native' (default), 'rgb', 'gray', or 'csv' \n",
    "img, path, filename = pcv.readimage(filename=args.image)"
   ]
  },
  {
   "cell_type": "code",
   "execution_count": null,
   "id": "2fc0b45b-ec8c-4297-bef7-4c8c543ac47e",
   "metadata": {},
   "outputs": [],
   "source": [
    "# Crop image if necessary. This is optional. \n",
    "crop_img = pcv.crop(img=img, x=250, y=200, h=1050, w=950) # <--- Llenar"
   ]
  },
  {
   "cell_type": "code",
   "execution_count": null,
   "id": "41eeec1a-b1cb-44b4-b36b-f2a1502b44f0",
   "metadata": {},
   "outputs": [],
   "source": [
    "# If your image is not straight, rotate it. Here our image is straight becasue our camera was on a flat surface, so we will rotate 0 degrees. \n",
    "\n",
    "rotate_img = pcv.transform.rotate(crop_img, 0, False)# False, no conservar las dimensiones originales de la imágen recortada\n",
    "#pcv.transform.rotate?"
   ]
  },
  {
   "cell_type": "code",
   "execution_count": null,
   "id": "6cba98f2-712e-44c1-b6f3-ae291d68759c",
   "metadata": {},
   "outputs": [],
   "source": [
    "flipped= pcv.flip(img=rotate_img, direction=\"vertical\")\n"
   ]
  },
  {
   "cell_type": "code",
   "execution_count": null,
   "id": "22e66880-3c79-4cbf-b24b-a620a86617d0",
   "metadata": {},
   "outputs": [],
   "source": [
    "#Presenta la imagen en pantalla\n",
    "pcv.plot_image(flipped)\n",
    "# print(flipped)  <--- ?"
   ]
  },
  {
   "cell_type": "code",
   "execution_count": null,
   "id": "e9a99677-5e4e-4c27-ac7c-ba231f44ff82",
   "metadata": {},
   "outputs": [],
   "source": [
    "flipped= pcv.flip(img=rotate_img, direction=\"horizontal\")"
   ]
  },
  {
   "cell_type": "code",
   "execution_count": null,
   "id": "0faf15c2-9807-42fb-a452-3644582cea28",
   "metadata": {},
   "outputs": [],
   "source": [
    "# Inputs:\n",
    "#   rgb_img - RGB image\n",
    "\n",
    "colorspace_img = pcv.visualize.colorspaces(rgb_img=rotate_img)\n"
   ]
  },
  {
   "cell_type": "code",
   "execution_count": null,
   "id": "3a3d13da-6fb8-49f2-93e5-c627d7feb9c1",
   "metadata": {},
   "outputs": [],
   "source": [
    "#Para guardar una imagen:\n",
    "\n",
    "pcv.print_image(flipped, filename = \"./res/flipped.png\")"
   ]
  },
  {
   "cell_type": "code",
   "execution_count": null,
   "id": "a40bd03b-7fe4-4a2a-99cd-6053d6873641",
   "metadata": {},
   "outputs": [],
   "source": []
  }
 ],
 "metadata": {
  "kernelspec": {
   "display_name": "Python 3 (ipykernel)",
   "language": "python",
   "name": "python3"
  },
  "language_info": {
   "codemirror_mode": {
    "name": "ipython",
    "version": 3
   },
   "file_extension": ".py",
   "mimetype": "text/x-python",
   "name": "python",
   "nbconvert_exporter": "python",
   "pygments_lexer": "ipython3",
   "version": "3.10.16"
  }
 },
 "nbformat": 4,
 "nbformat_minor": 5
}
